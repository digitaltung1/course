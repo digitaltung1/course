{
  "nbformat": 4,
  "nbformat_minor": 0,
  "metadata": {
    "kernelspec": {
      "name": "python3",
      "display_name": "Python 3"
    },
    "language_info": {
      "codemirror_mode": {
        "name": "ipython",
        "version": 3
      },
      "file_extension": ".py",
      "mimetype": "text/x-python",
      "name": "python",
      "nbconvert_exporter": "python",
      "pygments_lexer": "ipython3",
      "version": "3.6.6"
    },
    "colab": {
      "name": "kernel-vector-sign-language.ipynb",
      "provenance": [],
      "collapsed_sections": [],
      "include_colab_link": true
    },
    "accelerator": "GPU"
  },
  "cells": [
    {
      "cell_type": "markdown",
      "metadata": {
        "id": "view-in-github",
        "colab_type": "text"
      },
      "source": [
        "<a href=\"https://colab.research.google.com/github/hiamitabha/course/blob/master/kernel_vector_sign_language.ipynb\" target=\"_parent\"><img src=\"https://colab.research.google.com/assets/colab-badge.svg\" alt=\"Open In Colab\"/></a>"
      ]
    },
    {
      "cell_type": "markdown",
      "metadata": {
        "id": "-L0QNBLrKhVE",
        "colab_type": "text"
      },
      "source": [
        "Choose device out of CPU, GPU, or TPU"
      ]
    },
    {
      "cell_type": "markdown",
      "metadata": {
        "id": "PihERIiMpiek",
        "colab_type": "text"
      },
      "source": [
        "Choose _DEVICE out of CPU, GPU, TPU, or FLOYD\n",
        "Choose _MODEL out of Convolution Neural Network (CNN) or RESNET (Resnet-50 available in Keras)\n",
        "\n",
        "Choose _OPTIMZER out of all the optimizers available in Keras: SGD, RMSprop, Adagrad, AdaDelta, Adam, AdaMax, Nadam."
      ]
    },
    {
      "cell_type": "code",
      "metadata": {
        "id": "jARBqQIbIlVA",
        "colab_type": "code",
        "colab": {}
      },
      "source": [
        "_DEVICE = \"GPU\"\n",
        "_MODEL = \"CNN\"\n",
        "_OPTIMIZER = \"SGD\""
      ],
      "execution_count": 0,
      "outputs": []
    },
    {
      "cell_type": "code",
      "metadata": {
        "id": "pZfX4A_k1cyB",
        "colab_type": "code",
        "outputId": "e7e2bd83-e6ce-47d2-c1d2-17c375ffc0f2",
        "colab": {
          "base_uri": "https://localhost:8080/",
          "height": 67
        }
      },
      "source": [
        "%tensorflow_version 2.x\n",
        "import tensorflow as tf\n",
        "print(\"Tensorflow version \" + tf.__version__)\n",
        "\n",
        "def get_cpu_device_name():\n",
        "    \"\"\"\"\n",
        "        Get the device name of a GPU device\n",
        "    \"\"\"\"\n",
        "    device_name = tf.test.gpu_device_name()\n",
        "    if device_name != '/device:GPU:0':\n",
        "        print (device_name) \n",
        "        raise SystemError('GPU device not found')\n",
        "    print('Found GPU at: {}'.format(device_name))\n",
        "    #GPU count and name\n",
        "    !nvidia-smi -L\n",
        "    return device_name\n",
        "\n",
        "def get_tpu_strategy():\n",
        "    \"\"\"\"\n",
        "        Get the tpu_strategy for a TPU\n",
        "    \"\"\"\"\n",
        "    try:\n",
        "        tpu = tf.distribute.cluster_resolver.TPUClusterResolver()  # TPU detection\n",
        "        print('Running on TPU ', tpu.cluster_spec().as_dict()['worker'])\n",
        "    except ValueError:\n",
        "        raise BaseException('ERROR: Not connected to a TPU runtime; please see the previous cell in this notebook for instructions!')\n",
        "\n",
        "    tf.config.experimental_connect_to_cluster(tpu)\n",
        "    tf.tpu.experimental.initialize_tpu_system(tpu)\n",
        "    tpu_strategy = tf.distribute.experimental.TPUStrategy(tpu)\n",
        "    return tpu_strategy\n",
        "\n",
        "if _DEVICE == \"TPU\":\n",
        "    device_name = 'tpu'\n",
        "    tpu_strategy = get_tpu_strategy()\n",
        "elif _DEVICE == \"GPU\":\n",
        "    device_name = get_gpu_device_name()\n",
        "elif _DEVICE == \"CPU\":\n",
        "    device_name = '/cpu:0'\n",
        "elif _DEVICE == \"FLOYD\":\n",
        "    print ('Running on floydhub with CPU')\n",
        "elif _DEVICE == \"FLOYDGPU\":\n",
        "    print ('Running on floydhub with GPU')\n",
        "    device_name = get_gpu_device_name()\n",
        "else:\n",
        "    print (\"Incorrect device option\")"
      ],
      "execution_count": 2,
      "outputs": [
        {
          "output_type": "stream",
          "text": [
            "Tensorflow version 2.2.0-rc2\n",
            "Found GPU at: /device:GPU:0\n",
            "GPU 0: Tesla P100-PCIE-16GB (UUID: GPU-fe901c0c-5d97-a475-34a4-88faa86a271f)\n"
          ],
          "name": "stdout"
        }
      ]
    },
    {
      "cell_type": "code",
      "metadata": {
        "id": "w6MhmZFU1cx-",
        "colab_type": "code",
        "colab": {}
      },
      "source": [
        "try:\n",
        "    import tensorflow.keras\n",
        "    from tensorflow.keras.layers import Conv2D, Dense, Dropout, Flatten, MaxPooling2D, GlobalAveragePooling2D\n",
        "    from tensorflow.keras.models import Sequential, Model, model_from_json\n",
        "    from tensorflow.keras.preprocessing.image import img_to_array\n",
        "    from tensorflow.keras import applications\n",
        "    from tensorflow.keras.callbacks import EarlyStopping\n",
        "except ImportError as exc:\n",
        "    sys.exit(\"No keras\")"
      ],
      "execution_count": 0,
      "outputs": []
    },
    {
      "cell_type": "code",
      "metadata": {
        "_cell_guid": "b1076dfc-b9ad-4769-8c92-a6c4dae69d19",
        "_uuid": "8f2839f25d086af736a60e9eeb907d3b93b6e0e5",
        "id": "B6KdzfIl1cx4",
        "colab_type": "code",
        "colab": {}
      },
      "source": [
        "# This Python 3 environment comes with many helpful analytics libraries installed\n",
        "# It is defined by the kaggle/python docker image: https://github.com/kaggle/docker-python\n",
        "# For example, here's several helpful packages to load in \n",
        "\n",
        "import numpy as np # linear algebra\n",
        "import pandas as pd # data processing, CSV file I/O (e.g. pd.read_csv)\n",
        "\n",
        "# Input data files are available in the \"../input/\" directory.\n",
        "# For example, running this (by clicking run or pressing Shift+Enter) will list all files under the input directory\n",
        "\n",
        "import os\n",
        "\n",
        "# Any results you write to the current directory are saved as output."
      ],
      "execution_count": 0,
      "outputs": []
    },
    {
      "cell_type": "code",
      "metadata": {
        "id": "scXX6GW91cx7",
        "colab_type": "code",
        "colab": {}
      },
      "source": [
        "try:\n",
        "    from PIL import Image\n",
        "except ImportError:\n",
        "    sys.exit(\"Cannot import from PIL: Do `pip3 install --user Pillow` to install\")"
      ],
      "execution_count": 0,
      "outputs": []
    },
    {
      "cell_type": "code",
      "metadata": {
        "id": "5AqIBytu1cyD",
        "colab_type": "code",
        "colab": {}
      },
      "source": [
        "try:\n",
        "    from sklearn.model_selection import train_test_split\n",
        "except ImportError as exc:\n",
        "    sys.exit(\"Cannot import scikit\")"
      ],
      "execution_count": 0,
      "outputs": []
    },
    {
      "cell_type": "code",
      "metadata": {
        "id": "_E4o-QLv1cyF",
        "colab_type": "code",
        "colab": {}
      },
      "source": [
        "class NetworkConstants():  # pylint: disable=too-few-public-methods\n",
        "    \"\"\"Constant values used as image and network parameters.\"\"\"\n",
        "\n",
        "    # Width of images passed to the network\n",
        "    IMAGE_WIDTH: int = 200\n",
        "\n",
        "    # Height of images passed to the network\n",
        "    IMAGE_HEIGHT: int = 200\n",
        "\n",
        "    # Currently set to 2 alphabet images and 1 background image class\n",
        "    # Number of classes that the network can categorize\n",
        "    NUM_CLASSES: int = 27\n",
        "\n",
        "    # The fraction of images passed to the network during training that should\n",
        "    # be used as a validation set. Range: 0 to 1\n",
        "    VALIDATION_SPLIT: float = 0.2\n",
        "\n",
        "    # The fraction of images passed to the network during training that should\n",
        "    # be used as a test set. Range: 0 to 1\n",
        "    TEST_SPLIT: float = 0.2\n",
        "\n",
        "    # Number of epochs on which to train the network\n",
        "    EPOCHS: int = 20\n"
      ],
      "execution_count": 0,
      "outputs": []
    },
    {
      "cell_type": "code",
      "metadata": {
        "_cell_guid": "79c7e3d0-c299-4dcb-8224-4455121ee9b0",
        "_uuid": "d629ff2d2480ee46fbb7e2d37f6b5fab8052498a",
        "id": "zp3bD_-81cyI",
        "colab_type": "code",
        "colab": {}
      },
      "source": [
        "from zipfile import ZipFile\n",
        "import io\n",
        "class SignLanguageRecognizer():\n",
        "    \"\"\"Recognize sign language hand signals using Vector's camera feed.\n",
        "\n",
        "    A convolutional neural network is used to predict the hand signs.\n",
        "    The network is built with a Keras Sequential model with a TensorFlow backend.\n",
        "    \"\"\"\n",
        "\n",
        "    def __init__(self):\n",
        "        \"\"\"\n",
        "        device_name = tf.test.gpu_device_name()\n",
        "        if device_name != '/device:GPU:0':\n",
        "            print(\n",
        "               '\\n\\nThis error most likely means that this notebook is not '\n",
        "               'configured to use a GPU.  Change this in Notebook Settings via the '\n",
        "               'command palette (cmd/ctrl-shift-P) or the Edit menu.\\n\\n')\n",
        "            raise SystemError('GPU device not found')\n",
        "        \"\"\"\n",
        "        self.training_images: np.ndarray = None\n",
        "        self.training_labels: np.ndarray = None\n",
        "        self.test_images: np.ndarray = None\n",
        "        self.test_labels: np.ndarray = None\n",
        "        self.model: tf.keras.engine.sequential.Sequential = None\n",
        "        self.graph: tf.python.framework.ops.Graph = tf.compat.v1.get_default_graph()\n",
        "        if _OPTIMZER == \"SGD\":\n",
        "            self.optimizer = tf.keras.optimizers.SGD(lr=0.01, decay=1e-6, momentum=0.9, nesterov=True)\n",
        "        elif _OPTIMZER == \"ADAM\":\n",
        "            self.optimizer = tf.keras.optimizers.Adamax(learning_rate=0.002, beta_1=0.9, beta_2=0.999)\n",
        "            \n",
        "    def load_datasets(self, datasetFile) -> None:\n",
        "        \"\"\"Load the training and test datasets required to train the model.\n",
        "  \n",
        "        \"\"\"\n",
        "\n",
        "        if not dataset:\n",
        "            sys.exit(\"Cannot load dataset.\")\n",
        "\n",
        "        images = []\n",
        "        labels = []\n",
        "        countLabels = dict()\n",
        "        count = 0\n",
        "        with ZipFile(datasetFile) as archive:\n",
        "            for entry in archive.infolist():\n",
        "                filename = entry.filename.split('/')[-1]\n",
        "                if filename.endswith(\".png\") and not filename.startswith(\".\"):\n",
        "                   count += 1\n",
        "                   #if (count % 4 == 0):\n",
        "                   #    continue\n",
        "                   image_data = archive.read(entry.filename)\n",
        "                   data = io.BytesIO(image_data)\n",
        "                   image = Image.open(data)\n",
        "                   if image:    \n",
        "                       # Convert image to an array with shape (image_width, image_height, 1)\n",
        "                       image_data = img_to_array(image)\n",
        "                       images.append(image_data)\n",
        "\n",
        "                       if filename.startswith(\"background\"):\n",
        "                           # Use the last class to denote an unknown/background image\n",
        "                           label = NetworkConstants.NUM_CLASSES - 1\n",
        "                       else:\n",
        "                           # Use ordinal value offsets to denote labels for all alphabets\n",
        "                           label = ord(filename[0]) - 97\n",
        "\n",
        "                       labels.append(label)\n",
        "                       if countLabels.get(chr(label + 97)) is not None:\n",
        "                           countLabels[chr(label + 97)] += 1\n",
        "                       else:\n",
        "                           countLabels[chr(label + 97)] = 1\n",
        "                   else:\n",
        "                       print (\"Not using this file\")\n",
        "                       continue\n",
        "                   \n",
        "\n",
        "        print (\"Here is a count of labels from our repository\")\n",
        "        print (countLabels)\n",
        "        # Normalize the image data\n",
        "        images = np.array(images, dtype=\"float\") / 255.0\n",
        "        # Convert labels to a numpy array\n",
        "        labels = np.array(labels)\n",
        "\n",
        "        # Split data read in to training and test segments\n",
        "        self.training_images, self.test_images, self.training_labels, self.test_labels = train_test_split(images, labels, \n",
        "                                                                                                          test_size=NetworkConstants.TEST_SPLIT)\n",
        "\n",
        "        # Convert array of labels in to binary classs matrix\n",
        "        self.training_labels = tf.keras.utils.to_categorical(self.training_labels, num_classes=NetworkConstants.NUM_CLASSES)\n",
        "        self.test_labels = tf.keras.utils.to_categorical(self.test_labels, num_classes=NetworkConstants.NUM_CLASSES)\n",
        "    \n",
        "    def create_cnn_model(self) -> None:\n",
        "        \"\"\"Creates a convolutional neural network model with the following architecture:\n",
        "\n",
        "        ConvLayer -> MaxPoolLayer -> ConvLayer -> MaxPoolLayer -> ConvLayer ->\n",
        "        Dropout -> Flatten -> Dense -> Dropout -> Dense\n",
        "\n",
        "        .. code-block:: python\n",
        "\n",
        "            recognizer = SignLanguageRecognizer()\n",
        "            recognizer.load_datasets(\"/path/to/dataset_root_folder\")\n",
        "            recognizer.create_model()\n",
        "        \"\"\"\n",
        "        self.model = Sequential()\n",
        "        self.model.add(Conv2D(32, kernel_size=(3, 3), activation=\"relu\", input_shape=(NetworkConstants.IMAGE_WIDTH, \n",
        "                                                                                      NetworkConstants.IMAGE_HEIGHT, 1)))\n",
        "        self.model.add(MaxPooling2D(pool_size=(2, 2)))\n",
        "        self.model.add(Conv2D(64, kernel_size=(3, 3), activation=\"relu\"))\n",
        "        self.model.add(MaxPooling2D(pool_size=(2, 2)))\n",
        "        self.model.add(Conv2D(64, kernel_size=(3, 3), activation=\"relu\"))\n",
        "\n",
        "        self.model.add(Dropout(0.25))\n",
        "        self.model.add(Flatten())\n",
        "\n",
        "        self.model.add(Dense(128, activation=\"relu\"))\n",
        "        self.model.add(Dropout(0.5))\n",
        "        self.model.add(Dense(NetworkConstants.NUM_CLASSES, activation=\"softmax\"))\n",
        "\n",
        "        \n",
        "        self.model.compile(loss=tf.keras.losses.categorical_crossentropy,\n",
        "                            optimizer=self.optimizer,\n",
        "                            metrics=['accuracy'])\n",
        "        self.model.summary()\n",
        "    \n",
        "    def create_resnet_model(self) -> None:\n",
        "        base_model = applications.resnet50.ResNet50(weights= None, include_top=False, input_shape=(NetworkConstants.IMAGE_WIDTH, \n",
        "                                                                                      NetworkConstants.IMAGE_HEIGHT, 1))\n",
        "        x = base_model.output\n",
        "        x = GlobalAveragePooling2D()(x)\n",
        "        x = Dropout(0.25)(x)\n",
        "        predictions = Dense(NetworkConstants.NUM_CLASSES, activation= 'softmax')(x)\n",
        "        self.model = Model(inputs = base_model.input, outputs = predictions)\n",
        "        self.model.compile(optimizer=self.optimizer, loss='categorical_crossentropy', metrics=['accuracy'])\n",
        "\n",
        "    def train_model(self, epochs: int = NetworkConstants.EPOCHS, verbosity: int = 1) -> None:\n",
        "        \"\"\"Trains the model off of the training and test data provided\n",
        "\n",
        "        .. code-block:: python\n",
        "\n",
        "            recognizer = SignLanguageRecognizer()\n",
        "            recognizer.load_datasets(\"/path/to/dataset_root_folder\")\n",
        "            recognizer.create_model()\n",
        "            recognizer.train_model()\n",
        "        \"\"\"\n",
        "\n",
        "        if self.training_images.size == 0 or self.training_labels.size == 0:\n",
        "            sys.exit(\"Training dataset is empty. Build a dataset with `data_gen.py` before training the model.\")\n",
        "        es = EarlyStopping(monitor='val_loss', mode='min', verbose=1, patience=5)\n",
        "        history = self.model.fit(self.training_images,\n",
        "                       self.training_labels,\n",
        "                       epochs=epochs,\n",
        "                       verbose=verbosity,\n",
        "                       validation_split=NetworkConstants.VALIDATION_SPLIT,\n",
        "                       callbacks=[es])\n",
        "        return history\n",
        "      \n",
        "    \n",
        "    def save_model(self, model_config_filename: str, model_weights_filename: str) -> None:\n",
        "        \"\"\"Saves a model's config and weights for latter use.\n",
        "\n",
        "        .. code-block:: python\n",
        "\n",
        "            recognizer = SignLanguageRecognizer()\n",
        "            recognizer.load_datasets(args.dataset_root_folder)\n",
        "            recognizer.create_model()\n",
        "            recognizer.train_model()\n",
        "            recognizer.save_model(\"/path/to/model_config_filename\", \"/path/to/model_weights_filename\")\n",
        "        \"\"\"\n",
        "        json_model = self.model.to_json()\n",
        "        # Save the network architecture\n",
        "        with open(model_config_filename, \"w\") as file:\n",
        "            file.write(json_model)\n",
        "        # Save the model's assigned weights\n",
        "        self.model.save_weights(model_weights_filename)\n",
        "\n",
        "    def printme(self):\n",
        "        print (self.training_images[0])\n",
        "        \n",
        "    "
      ],
      "execution_count": 0,
      "outputs": []
    },
    {
      "cell_type": "code",
      "metadata": {
        "id": "dG8I6zEjY7IZ",
        "colab_type": "code",
        "outputId": "1ea712e6-9bd9-4601-e4b6-e02558a0a901",
        "colab": {
          "base_uri": "https://localhost:8080/",
          "height": 121
        }
      },
      "source": [
        "from google.colab import drive\n",
        "drive.mount('/content/drive')"
      ],
      "execution_count": 9,
      "outputs": [
        {
          "output_type": "stream",
          "text": [
            "Go to this URL in a browser: https://accounts.google.com/o/oauth2/auth?client_id=947318989803-6bn6qk8qdgf4n4g3pfee6491hc0brc4i.apps.googleusercontent.com&redirect_uri=urn%3aietf%3awg%3aoauth%3a2.0%3aoob&response_type=code&scope=email%20https%3a%2f%2fwww.googleapis.com%2fauth%2fdocs.test%20https%3a%2f%2fwww.googleapis.com%2fauth%2fdrive%20https%3a%2f%2fwww.googleapis.com%2fauth%2fdrive.photos.readonly%20https%3a%2f%2fwww.googleapis.com%2fauth%2fpeopleapi.readonly\n",
            "\n",
            "Enter your authorization code:\n",
            "··········\n",
            "Mounted at /content/drive\n"
          ],
          "name": "stdout"
        }
      ]
    },
    {
      "cell_type": "code",
      "metadata": {
        "id": "coQlecBqZIcn",
        "colab_type": "code",
        "outputId": "3df6514c-2b40-4214-b299-e52c5a3a2ea4",
        "colab": {
          "base_uri": "https://localhost:8080/",
          "height": 34
        }
      },
      "source": [
        "\n",
        "dataset = '/content/drive/My Drive/training-a-robot-to-understand-sign-language.zip'\n",
        "stats = os.stat(dataset)\n",
        "\n",
        "print (stats)\n"
      ],
      "execution_count": 10,
      "outputs": [
        {
          "output_type": "stream",
          "text": [
            "os.stat_result(st_mode=33152, st_ino=70, st_dev=77, st_nlink=1, st_uid=0, st_gid=0, st_size=133773677, st_atime=1585121187, st_mtime=1585034302, st_ctime=1585034302)\n"
          ],
          "name": "stdout"
        }
      ]
    },
    {
      "cell_type": "code",
      "metadata": {
        "id": "MEr_08NcsleB",
        "colab_type": "code",
        "colab": {
          "base_uri": "https://localhost:8080/",
          "height": 70
        },
        "outputId": "59740fb0-a7f5-4fa9-fe49-f84943ea5b6e"
      },
      "source": [
        "import timeit\n",
        "recognizer = SignLanguageRecognizer()\n",
        "recognizer.load_datasets(dataset)"
      ],
      "execution_count": 19,
      "outputs": [
        {
          "output_type": "stream",
          "text": [
            "Here is a count of labels from our repository\n",
            "{'a': 380, 'b': 490, '{': 460, 'c': 380, 'd': 290, 'e': 270, 'f': 340, 'g': 300, 'h': 350, 'i': 350, 'k': 360, 'l': 330, 'm': 610, 'n': 340, 'o': 370, 'p': 260, 'q': 180, 'r': 320, 's': 230, 't': 260, 'u': 329, 'v': 309, 'w': 319, 'x': 279, 'y': 370}\n"
          ],
          "name": "stdout"
        }
      ]
    },
    {
      "cell_type": "code",
      "metadata": {
        "id": "xDeyHK3bz7-p",
        "colab_type": "code",
        "colab": {}
      },
      "source": [
        "def train_and_evaluate(recognizer, model=\"CNN\"):\n",
        "    if model == \"RESNET\":\n",
        "        recognizer.create_resnet_model()\n",
        "    else:\n",
        "        recognizer.create_cnn_model()\n",
        "    starttime = timeit.default_timer()\n",
        "    history = recognizer.train_model()\n",
        "    print(\"The time difference is :\", timeit.default_timer() - starttime)\n",
        "    test_score = recognizer.model.evaluate(recognizer.test_images, recognizer.test_labels, verbose=1)\n",
        "    print(f\"{recognizer.model.metrics_names[1].capitalize()}: {test_score[1] * 100}%\")\n",
        "    return history\n"
      ],
      "execution_count": 0,
      "outputs": []
    },
    {
      "cell_type": "code",
      "metadata": {
        "id": "AhTlb4BY1cyL",
        "colab_type": "code",
        "outputId": "982abf21-b49b-4485-9e34-cc0e15b97441",
        "colab": {
          "base_uri": "https://localhost:8080/",
          "height": 793
        }
      },
      "source": [
        "\n",
        "if _DEVICE == \"TPU\":\n",
        "    with tpu_strategy.scope():\n",
        "        history = train_and_evaluate(recognizer, _MODEL)\n",
        "elif _DEVICE == \"GPU\":\n",
        "    with tf.device('/device:GPU:0'):\n",
        "        history = train_and_evaluate(recognizer, _MODEL)\n",
        "elif _DEVICE == \"CPU\":\n",
        "    with tf.device('/cpu:0'):\n",
        "        history = train_and_evaluate(recognizer, _MODEL)\n",
        "else:\n",
        "    print (\"Nothing to do!\")"
      ],
      "execution_count": 11,
      "outputs": [
        {
          "output_type": "stream",
          "text": [
            "Here is a count of labels from our repository\n",
            "{'a': 380, 'b': 490, '{': 460, 'c': 380, 'd': 290, 'e': 270, 'f': 340, 'g': 300, 'h': 350, 'i': 350, 'k': 360, 'l': 330, 'm': 610, 'n': 340, 'o': 370, 'p': 260, 'q': 180, 'r': 320, 's': 230, 't': 260, 'u': 329, 'v': 309, 'w': 319, 'x': 279, 'y': 370}\n",
            "Epoch 1/20\n",
            "170/170 [==============================] - 29s 172ms/step - loss: 3.6537 - accuracy: 0.1563 - val_loss: 21.3149 - val_accuracy: 0.0723\n",
            "Epoch 2/20\n",
            "170/170 [==============================] - 28s 163ms/step - loss: 0.9925 - accuracy: 0.6975 - val_loss: 5.3358 - val_accuracy: 0.1519\n",
            "Epoch 3/20\n",
            "170/170 [==============================] - 28s 163ms/step - loss: 0.2942 - accuracy: 0.9111 - val_loss: 0.4807 - val_accuracy: 0.8532\n",
            "Epoch 4/20\n",
            "170/170 [==============================] - 28s 163ms/step - loss: 0.2102 - accuracy: 0.9419 - val_loss: 1.6186 - val_accuracy: 0.7412\n",
            "Epoch 5/20\n",
            "170/170 [==============================] - 28s 163ms/step - loss: 0.1057 - accuracy: 0.9709 - val_loss: 1.5887 - val_accuracy: 0.6962\n",
            "Epoch 6/20\n",
            "170/170 [==============================] - 28s 163ms/step - loss: 0.0815 - accuracy: 0.9770 - val_loss: 0.9005 - val_accuracy: 0.8053\n",
            "Epoch 7/20\n",
            "170/170 [==============================] - 28s 163ms/step - loss: 0.0460 - accuracy: 0.9902 - val_loss: 0.0832 - val_accuracy: 0.9845\n",
            "Epoch 8/20\n",
            "170/170 [==============================] - 28s 163ms/step - loss: 0.0298 - accuracy: 0.9934 - val_loss: 0.0224 - val_accuracy: 0.9956\n",
            "Epoch 9/20\n",
            "170/170 [==============================] - 28s 163ms/step - loss: 0.0475 - accuracy: 0.9858 - val_loss: 0.1751 - val_accuracy: 0.9454\n",
            "Epoch 10/20\n",
            "170/170 [==============================] - 28s 162ms/step - loss: 0.0402 - accuracy: 0.9882 - val_loss: 0.0085 - val_accuracy: 0.9963\n",
            "Epoch 11/20\n",
            "170/170 [==============================] - 28s 163ms/step - loss: 0.0173 - accuracy: 0.9939 - val_loss: 0.0061 - val_accuracy: 0.9985\n",
            "Epoch 12/20\n",
            "170/170 [==============================] - 28s 163ms/step - loss: 0.0195 - accuracy: 0.9943 - val_loss: 0.0582 - val_accuracy: 0.9875\n",
            "Epoch 13/20\n",
            "170/170 [==============================] - 28s 162ms/step - loss: 0.0153 - accuracy: 0.9948 - val_loss: 0.0218 - val_accuracy: 0.9956\n",
            "Epoch 14/20\n",
            "170/170 [==============================] - 28s 163ms/step - loss: 0.0115 - accuracy: 0.9965 - val_loss: 0.1415 - val_accuracy: 0.9764\n",
            "Epoch 15/20\n",
            "170/170 [==============================] - 28s 163ms/step - loss: 0.0117 - accuracy: 0.9971 - val_loss: 0.0169 - val_accuracy: 0.9971\n",
            "Epoch 16/20\n",
            "170/170 [==============================] - 28s 163ms/step - loss: 0.0087 - accuracy: 0.9978 - val_loss: 0.0262 - val_accuracy: 0.9941\n",
            "Epoch 17/20\n",
            "170/170 [==============================] - 28s 162ms/step - loss: 0.0092 - accuracy: 0.9972 - val_loss: 0.0028 - val_accuracy: 0.9993\n",
            "Epoch 18/20\n",
            "170/170 [==============================] - 28s 163ms/step - loss: 0.0086 - accuracy: 0.9987 - val_loss: 0.0033 - val_accuracy: 0.9985\n",
            "Epoch 19/20\n",
            "170/170 [==============================] - 28s 163ms/step - loss: 0.0050 - accuracy: 0.9982 - val_loss: 0.0080 - val_accuracy: 0.9985\n",
            "Epoch 20/20\n",
            "170/170 [==============================] - 28s 162ms/step - loss: 0.0067 - accuracy: 0.9985 - val_loss: 0.0020 - val_accuracy: 1.0000\n",
            "The time difference is : 570.443715148\n",
            "53/53 [==============================] - 2s 46ms/step - loss: 7.3746e-04 - accuracy: 0.9994\n",
            "Accuracy: 99.94103908538818%\n"
          ],
          "name": "stdout"
        }
      ]
    },
    {
      "cell_type": "code",
      "metadata": {
        "id": "HH8KHT4csnyH",
        "colab_type": "code",
        "colab": {
          "base_uri": "https://localhost:8080/",
          "height": 840
        },
        "outputId": "8c0eeab8-471d-4957-922e-3c5bfdcb723e"
      },
      "source": [
        "recognizer.printme()"
      ],
      "execution_count": 20,
      "outputs": [
        {
          "output_type": "stream",
          "text": [
            "[[[0.33333333]\n",
            "  [0.32941176]\n",
            "  [0.34509804]\n",
            "  ...\n",
            "  [0.76078431]\n",
            "  [0.79607843]\n",
            "  [0.76862745]]\n",
            "\n",
            " [[0.36078431]\n",
            "  [0.35686275]\n",
            "  [0.36078431]\n",
            "  ...\n",
            "  [0.78823529]\n",
            "  [0.83137255]\n",
            "  [0.79215686]]\n",
            "\n",
            " [[0.38431373]\n",
            "  [0.36862745]\n",
            "  [0.36862745]\n",
            "  ...\n",
            "  [0.82352941]\n",
            "  [0.86666667]\n",
            "  [0.83921569]]\n",
            "\n",
            " ...\n",
            "\n",
            " [[0.67843137]\n",
            "  [0.6745098 ]\n",
            "  [0.6745098 ]\n",
            "  ...\n",
            "  [0.09411765]\n",
            "  [0.10196078]\n",
            "  [0.10588235]]\n",
            "\n",
            " [[0.67058824]\n",
            "  [0.66666667]\n",
            "  [0.6627451 ]\n",
            "  ...\n",
            "  [0.09803922]\n",
            "  [0.10196078]\n",
            "  [0.10588235]]\n",
            "\n",
            " [[0.64705882]\n",
            "  [0.64313725]\n",
            "  [0.64313725]\n",
            "  ...\n",
            "  [0.09803922]\n",
            "  [0.10196078]\n",
            "  [0.10588235]]]\n"
          ],
          "name": "stdout"
        }
      ]
    },
    {
      "cell_type": "code",
      "metadata": {
        "id": "XgM8SItB1cyN",
        "colab_type": "code",
        "colab": {
          "base_uri": "https://localhost:8080/",
          "height": 295
        },
        "outputId": "442a0bf4-d785-49c9-c0bd-6a74068fdebf"
      },
      "source": [
        "import matplotlib.pyplot as plt\n",
        "\n",
        "# Plot training & validation accuracy values\n",
        "plt.plot(history.history['accuracy'])\n",
        "plt.plot(history.history['val_accuracy'])\n",
        "plt.title('Model accuracy')\n",
        "plt.ylabel('Accuracy')\n",
        "plt.xlabel('Epoch')\n",
        "plt.legend(['Train', 'Test'], loc='upper left')\n",
        "plt.show()\n",
        "\n"
      ],
      "execution_count": 12,
      "outputs": [
        {
          "output_type": "display_data",
          "data": {
            "image/png": "[encoded data removed]",
            "text/plain": [
              "<Figure size 432x288 with 1 Axes>"
            ]
          },
          "metadata": {
            "tags": []
          }
        }
      ]
    },
    {
      "cell_type": "code",
      "metadata": {
        "id": "UZ2NnqvzlONw",
        "colab_type": "code",
        "colab": {
          "base_uri": "https://localhost:8080/",
          "height": 295
        },
        "outputId": "8f1a979f-557a-49cb-d626-210256c64042"
      },
      "source": [
        "# Plot training & validation loss values\n",
        "plt.plot(history.history['loss'])\n",
        "plt.plot(history.history['val_loss'])\n",
        "plt.title('Model loss')\n",
        "plt.ylabel('Loss')\n",
        "plt.xlabel('Epoch')\n",
        "plt.legend(['Train', 'Test'], loc='upper left')\n",
        "plt.show()"
      ],
      "execution_count": 13,
      "outputs": [
        {
          "output_type": "display_data",
          "data": {
            "image/png": "[encoded data removed]",
            "text/plain": [
              "<Figure size 432x288 with 1 Axes>"
            ]
          },
          "metadata": {
            "tags": []
          }
        }
      ]
    }
  ]
}